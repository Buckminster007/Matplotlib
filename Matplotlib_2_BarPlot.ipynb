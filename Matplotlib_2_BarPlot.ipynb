{
  "nbformat": 4,
  "nbformat_minor": 0,
  "metadata": {
    "colab": {
      "name": "Matplotlib_2_BarPlot.ipynb",
      "provenance": []
    },
    "kernelspec": {
      "name": "python3",
      "display_name": "Python 3"
    },
    "language_info": {
      "name": "python"
    }
  },
  "cells": [
    {
      "cell_type": "code",
      "execution_count": 12,
      "metadata": {
        "id": "8jgTzDAEeJ6F"
      },
      "outputs": [],
      "source": [
        "import numpy as np\n",
        "from matplotlib import pyplot as plt\n",
        "import numpy as np\n"
      ]
    },
    {
      "cell_type": "code",
      "source": [
        "ages_x=list(np.arange(25,36))\n",
        "ages_x"
      ],
      "metadata": {
        "colab": {
          "base_uri": "https://localhost:8080/"
        },
        "id": "DWWGTRxjnYr6",
        "outputId": "2e85586e-60bc-40b7-eefe-c54ddc35dcd8"
      },
      "execution_count": 13,
      "outputs": [
        {
          "output_type": "execute_result",
          "data": {
            "text/plain": [
              "[25, 26, 27, 28, 29, 30, 31, 32, 33, 34, 35]"
            ]
          },
          "metadata": {},
          "execution_count": 13
        }
      ]
    },
    {
      "cell_type": "code",
      "source": [
        "py_dev_y=[45372, 48567, 53784, 57896, 63874, 65259, 70003, 70000, 73256, 78546, 83142]\n",
        "js_dev_y = [37810, 43515, 46823, 49293, 53437, 56373, 62375, 66674, 68745, 68746, 74583]\n",
        "dev_y = [34368, 38496, 42000, 46752, 49320, 53200, 56000, 62316, 64928, 67317, 68748]"
      ],
      "metadata": {
        "id": "2RzVeYjWnbs4"
      },
      "execution_count": 14,
      "outputs": []
    },
    {
      "cell_type": "code",
      "source": [
        "x_index=np.arange(len(ages_x))\n",
        "width=0.25\n",
        "plt.bar(x_index-width, js_dev_y, width=width, label='Javascript')\n",
        "\n",
        "plt.bar(x_index, dev_y, width=width, color='#444444', label='All Devs')\n",
        "\n",
        "plt.bar(x_index+width, py_dev_y, width=width, label='Python')\n",
        "\n",
        "plt.xticks(ticks=x_index, labels=ages_x)\n",
        "\n",
        "plt.title('Median Salary by Age(USD)')\n",
        "plt.xlabel('Ages')\n",
        "plt.ylabel('Median Salary(USD)')\n",
        "\n",
        "plt.legend()\n",
        "# to save the figure\n",
        "plt.show()"
      ],
      "metadata": {
        "colab": {
          "base_uri": "https://localhost:8080/",
          "height": 295
        },
        "id": "14qhiUrJnj3z",
        "outputId": "9d7b3af7-4a5c-42e7-904e-176442e1b9b1"
      },
      "execution_count": 15,
      "outputs": [
        {
          "output_type": "display_data",
          "data": {
            "image/png": "[encoded data removed]",
            "text/plain": [
              "<Figure size 432x288 with 1 Axes>"
            ]
          },
          "metadata": {
            "needs_background": "light"
          }
        }
      ]
    }
  ]
}